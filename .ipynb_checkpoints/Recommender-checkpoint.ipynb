{
 "cells": [
  {
   "cell_type": "markdown",
   "metadata": {},
   "source": [
    "# Import and class definitions"
   ]
  },
  {
   "cell_type": "code",
   "execution_count": 4,
   "metadata": {
    "ExecuteTime": {
     "end_time": "2021-01-26T09:22:25.578737Z",
     "start_time": "2021-01-26T09:22:25.576226Z"
    }
   },
   "outputs": [],
   "source": [
    "import recPipeline as pipe\n",
    "import pandas as pd"
   ]
  },
  {
   "cell_type": "markdown",
   "metadata": {},
   "source": [
    "# Testing ground"
   ]
  },
  {
   "cell_type": "code",
   "execution_count": 5,
   "metadata": {
    "ExecuteTime": {
     "end_time": "2021-01-26T09:22:48.937301Z",
     "start_time": "2021-01-26T09:22:26.223636Z"
    }
   },
   "outputs": [],
   "source": [
    "# This just builds the pipeline.\n",
    "check = pipe.Pipeline()\n",
    "\n",
    "# This part just fixes some id issues and fills some missing values\n",
    "check.preprocess()\n",
    "\n",
    "# split up training and testing data!\n",
    "train, test, val = check.split_test_train(\n",
    "    testTrainFrac=1, ratingsWithheldFrac=0.2, ratingsThresh=4)"
   ]
  },
  {
   "cell_type": "code",
   "execution_count": 6,
   "metadata": {
    "ExecuteTime": {
     "end_time": "2021-01-26T09:23:42.467628Z",
     "start_time": "2021-01-26T09:22:48.938792Z"
    }
   },
   "outputs": [
    {
     "name": "stdout",
     "output_type": "stream",
     "text": [
      "The models mean precision is 0.4245590269565582, the mean recall is 0.07300049539908886, and the mean auc is 0.9634895920753479.\n"
     ]
    }
   ],
   "source": [
    "# https://towardsdatascience.com/recommender-systems-in-practice-cef9033bb23a\n",
    "\n",
    "# Build a model and then do a random parameter search\n",
    "model = pipe.Recommender()\n",
    "model.fit(train, no_components=15, epochs=30, num_threads=20)\n",
    "precision, recall, auc = model.score(train, val, num_threads=20)\n",
    "\n",
    "print('The models mean precision is {}, the mean recall is {}, and the mean auc is {}.'.format(\n",
    "    precision.mean(), recall.mean(), auc.mean()))"
   ]
  },
  {
   "cell_type": "code",
   "execution_count": 7,
   "metadata": {
    "ExecuteTime": {
     "end_time": "2021-01-26T09:23:42.548761Z",
     "start_time": "2021-01-26T09:23:42.470489Z"
    }
   },
   "outputs": [
    {
     "name": "stdout",
     "output_type": "stream",
     "text": [
      "\u001b[1mUser 52683 known items: \u001b[0m\n"
     ]
    },
    {
     "data": {
      "text/html": [
       "<table border=\"1\" class=\"dataframe\">\n",
       "  <thead>\n",
       "    <tr style=\"text-align: right;\">\n",
       "      <th></th>\n",
       "      <th>title</th>\n",
       "      <th>authors</th>\n",
       "      <th>rating</th>\n",
       "    </tr>\n",
       "  </thead>\n",
       "  <tbody>\n",
       "    <tr>\n",
       "      <th>60</th>\n",
       "      <td>Harry Potter and the Prisoner of Azkaban (Harry Potter, #3)</td>\n",
       "      <td>J.K. Rowling, Mary GrandPré, Rufus Beck</td>\n",
       "      <td>5</td>\n",
       "    </tr>\n",
       "    <tr>\n",
       "      <th>13</th>\n",
       "      <td>The Demigod Diaries</td>\n",
       "      <td>Rick Riordan, Haley Riordan</td>\n",
       "      <td>5</td>\n",
       "    </tr>\n",
       "    <tr>\n",
       "      <th>33</th>\n",
       "      <td>Last Sacrifice (Vampire Academy, #6)</td>\n",
       "      <td>Richelle Mead</td>\n",
       "      <td>5</td>\n",
       "    </tr>\n",
       "    <tr>\n",
       "      <th>52</th>\n",
       "      <td>The Hidden Oracle (The Trials of Apollo, #1)</td>\n",
       "      <td>Rick Riordan</td>\n",
       "      <td>5</td>\n",
       "    </tr>\n",
       "    <tr>\n",
       "      <th>26</th>\n",
       "      <td>Percy Jackson's Greek Gods (A Percy Jackson and the Olympians Guide)</td>\n",
       "      <td>Rick Riordan, John Rocco</td>\n",
       "      <td>5</td>\n",
       "    </tr>\n",
       "    <tr>\n",
       "      <th>25</th>\n",
       "      <td>Since You've Been Gone</td>\n",
       "      <td>Morgan Matson</td>\n",
       "      <td>5</td>\n",
       "    </tr>\n",
       "    <tr>\n",
       "      <th>24</th>\n",
       "      <td>The Wrath and the Dawn (The Wrath and the Dawn, #1)</td>\n",
       "      <td>Renee Ahdieh</td>\n",
       "      <td>5</td>\n",
       "    </tr>\n",
       "    <tr>\n",
       "      <th>51</th>\n",
       "      <td>The Rose &amp; the Dagger (The Wrath &amp; the Dawn, #2)</td>\n",
       "      <td>Renee Ahdieh</td>\n",
       "      <td>5</td>\n",
       "    </tr>\n",
       "    <tr>\n",
       "      <th>20</th>\n",
       "      <td>Percy Jackson &amp; the Olympians:  The Ultimate Guide</td>\n",
       "      <td>Mary-Jane Knight, Rick Riordan</td>\n",
       "      <td>5</td>\n",
       "    </tr>\n",
       "    <tr>\n",
       "      <th>18</th>\n",
       "      <td>To All the Boys I've Loved Before (To All the Boys I've Loved Before, #1)</td>\n",
       "      <td>Jenny Han</td>\n",
       "      <td>5</td>\n",
       "    </tr>\n",
       "  </tbody>\n",
       "</table>"
      ],
      "text/plain": [
       "<IPython.core.display.HTML object>"
      ]
     },
     "metadata": {},
     "output_type": "display_data"
    },
    {
     "name": "stdout",
     "output_type": "stream",
     "text": [
      "\u001b[1mTop 10 suggested items:\u001b[0m\n"
     ]
    },
    {
     "data": {
      "text/html": [
       "<table border=\"1\" class=\"dataframe\">\n",
       "  <thead>\n",
       "    <tr style=\"text-align: right;\">\n",
       "      <th></th>\n",
       "      <th>title</th>\n",
       "      <th>authors</th>\n",
       "    </tr>\n",
       "  </thead>\n",
       "  <tbody>\n",
       "    <tr>\n",
       "      <th>5</th>\n",
       "      <td>The Fault in Our Stars</td>\n",
       "      <td>John Green</td>\n",
       "    </tr>\n",
       "    <tr>\n",
       "      <th>11</th>\n",
       "      <td>Divergent (Divergent, #1)</td>\n",
       "      <td>Veronica Roth</td>\n",
       "    </tr>\n",
       "    <tr>\n",
       "      <th>826</th>\n",
       "      <td>To All the Boys I've Loved Before (To All the Boys I've Loved Before, #1)</td>\n",
       "      <td>Jenny Han</td>\n",
       "    </tr>\n",
       "    <tr>\n",
       "      <th>68</th>\n",
       "      <td>Insurgent (Divergent, #2)</td>\n",
       "      <td>Veronica Roth</td>\n",
       "    </tr>\n",
       "    <tr>\n",
       "      <th>2111</th>\n",
       "      <td>P.S. I Still Love You (To All the Boys I've Loved Before, #2)</td>\n",
       "      <td>Jenny Han</td>\n",
       "    </tr>\n",
       "    <tr>\n",
       "      <th>505</th>\n",
       "      <td>The One (The Selection, #3)</td>\n",
       "      <td>Kiera Cass</td>\n",
       "    </tr>\n",
       "    <tr>\n",
       "      <th>205</th>\n",
       "      <td>The Selection (The Selection, #1)</td>\n",
       "      <td>Kiera Cass</td>\n",
       "    </tr>\n",
       "    <tr>\n",
       "      <th>422</th>\n",
       "      <td>The Elite (The Selection, #2)</td>\n",
       "      <td>Kiera Cass</td>\n",
       "    </tr>\n",
       "    <tr>\n",
       "      <th>362</th>\n",
       "      <td>Anna and the French Kiss (Anna and the French Kiss, #1)</td>\n",
       "      <td>Stephanie Perkins</td>\n",
       "    </tr>\n",
       "    <tr>\n",
       "      <th>111</th>\n",
       "      <td>Me Before You (Me Before You, #1)</td>\n",
       "      <td>Jojo Moyes</td>\n",
       "    </tr>\n",
       "  </tbody>\n",
       "</table>"
      ],
      "text/plain": [
       "<IPython.core.display.HTML object>"
      ]
     },
     "metadata": {},
     "output_type": "display_data"
    }
   ],
   "source": [
    "# Just recommend a random user some books\n",
    "model.recommend_random(check.ratings, check.books, seed=1234)"
   ]
  },
  {
   "cell_type": "code",
   "execution_count": null,
   "metadata": {
    "ExecuteTime": {
     "end_time": "2021-01-26T05:30:42.973968Z",
     "start_time": "2021-01-26T05:30:42.959426Z"
    }
   },
   "outputs": [],
   "source": [
    "hyper"
   ]
  },
  {
   "cell_type": "code",
   "execution_count": null,
   "metadata": {},
   "outputs": [],
   "source": []
  }
 ],
 "metadata": {
  "kernelspec": {
   "display_name": "Python 3",
   "language": "python",
   "name": "python3"
  },
  "language_info": {
   "codemirror_mode": {
    "name": "ipython",
    "version": 3
   },
   "file_extension": ".py",
   "mimetype": "text/x-python",
   "name": "python",
   "nbconvert_exporter": "python",
   "pygments_lexer": "ipython3",
   "version": "3.8.5"
  },
  "toc": {
   "base_numbering": 1,
   "nav_menu": {},
   "number_sections": true,
   "sideBar": true,
   "skip_h1_title": false,
   "title_cell": "Table of Contents",
   "title_sidebar": "Contents",
   "toc_cell": false,
   "toc_position": {},
   "toc_section_display": true,
   "toc_window_display": false
  }
 },
 "nbformat": 4,
 "nbformat_minor": 4
}
