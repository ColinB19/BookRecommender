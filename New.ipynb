{
 "cells": [
  {
   "cell_type": "code",
   "execution_count": 96,
   "metadata": {
    "ExecuteTime": {
     "end_time": "2021-01-15T20:48:18.151790Z",
     "start_time": "2021-01-15T20:48:18.141622Z"
    }
   },
   "outputs": [],
   "source": [
    "import numpy as np\n",
    "import pandas as pd\n",
    "import matplotlib.pyplot as plt\n",
    "%matplotlib inline\n",
    "\n",
    "label_kwargs = {'fontfamily': 'sans-serif',\n",
    "                'fontsize': 15}\n",
    "\n",
    "title_kwargs = {'fontfamily': 'sans-serif',\n",
    "                'fontsize': 25,\n",
    "                'fontweight': 'bold'}\n",
    "\n",
    "tick_kwargs = {'rotation': 'vertical'}\n",
    "\n",
    "class color:\n",
    "   PURPLE = '\\033[95m'\n",
    "   CYAN = '\\033[96m'\n",
    "   DARKCYAN = '\\033[36m'\n",
    "   BLUE = '\\033[94m'\n",
    "   GREEN = '\\033[92m'\n",
    "   YELLOW = '\\033[93m'\n",
    "   RED = '\\033[91m'\n",
    "   BOLD = '\\033[1m'\n",
    "   UNDERLINE = '\\033[4m'\n",
    "   END = '\\033[0m'\n",
    "\n",
    "    \n",
    "pd.options.display.width=None"
   ]
  },
  {
   "cell_type": "code",
   "execution_count": 59,
   "metadata": {
    "ExecuteTime": {
     "end_time": "2021-01-15T20:22:17.653614Z",
     "start_time": "2021-01-15T20:22:16.867889Z"
    }
   },
   "outputs": [],
   "source": [
    "# let's just read in all of the data that we'll need\n",
    "books = pd.read_csv(\"goodbooks-10k/books.csv\")\n",
    "ratings = pd.read_csv(\"goodbooks-10k/ratings.csv\")\n",
    "\n",
    "\n",
    "# may not use these at first.\n",
    "book_tags = pd.read_csv(\"goodbooks-10k/book_tags.csv\")\n",
    "tags = pd.read_csv(\"goodbooks-10k/tags.csv\")\n",
    "to_read = pd.read_csv(\"goodbooks-10k/to_read.csv\")"
   ]
  },
  {
   "cell_type": "code",
   "execution_count": 60,
   "metadata": {
    "ExecuteTime": {
     "end_time": "2021-01-15T20:22:17.711611Z",
     "start_time": "2021-01-15T20:22:17.655085Z"
    }
   },
   "outputs": [],
   "source": [
    "# just changing to standard feature names\n",
    "ratings.rename(columns={'user_id': 'uid', 'book_id': 'iid'}, inplace=True)\n",
    "books.rename(columns={'book_id': 'iid'}, inplace=True)\n",
    "\n",
    "# starting user and book indices from 0\n",
    "ratings.uid = ratings.uid - 1\n",
    "ratings.iid = ratings.iid - 1\n",
    "books.iid = books.iid - 1\n",
    "to_read.book_id = to_read.book_id - 1"
   ]
  },
  {
   "cell_type": "code",
   "execution_count": 5,
   "metadata": {
    "ExecuteTime": {
     "end_time": "2021-01-15T18:59:02.762880Z",
     "start_time": "2021-01-15T18:59:02.723250Z"
    }
   },
   "outputs": [],
   "source": [
    "import lightfm as lf"
   ]
  },
  {
   "cell_type": "code",
   "execution_count": 44,
   "metadata": {
    "ExecuteTime": {
     "end_time": "2021-01-15T19:24:17.289267Z",
     "start_time": "2021-01-15T19:24:17.269824Z"
    }
   },
   "outputs": [],
   "source": [
    "IDMAP = books[['book_id', 'goodreads_book_id']].to_dict()\n",
    "titleMAP = books[['book_id', 'title']].to_dict()"
   ]
  },
  {
   "cell_type": "code",
   "execution_count": 45,
   "metadata": {
    "ExecuteTime": {
     "end_time": "2021-01-15T19:24:18.342721Z",
     "start_time": "2021-01-15T19:24:18.285257Z"
    }
   },
   "outputs": [],
   "source": [
    "from scipy.sparse import coo_matrix as cm\n",
    "\n",
    "numUsers = ratings.uid.max()+1\n",
    "numBooks = ratings.iid.max()+1\n",
    "\n",
    "ratSparse = cm((ratings.rating, (ratings.uid, ratings.iid)), shape = (numUsers, numBooks))"
   ]
  },
  {
   "cell_type": "code",
   "execution_count": 46,
   "metadata": {
    "ExecuteTime": {
     "end_time": "2021-01-15T19:26:30.084264Z",
     "start_time": "2021-01-15T19:25:22.992848Z"
    }
   },
   "outputs": [
    {
     "data": {
      "text/plain": [
       "<lightfm.lightfm.LightFM at 0x7f5078b08280>"
      ]
     },
     "execution_count": 46,
     "metadata": {},
     "output_type": "execute_result"
    }
   ],
   "source": [
    "model = lf.LightFM(loss = 'warp')\n",
    "model.fit(ratSparse, epochs = 20, num_threads = 10)"
   ]
  },
  {
   "cell_type": "code",
   "execution_count": 111,
   "metadata": {
    "ExecuteTime": {
     "end_time": "2021-01-15T20:56:13.697267Z",
     "start_time": "2021-01-15T20:56:13.408373Z"
    }
   },
   "outputs": [
    {
     "name": "stdout",
     "output_type": "stream",
     "text": [
      "\u001b[1mUser 48112 known items: \u001b[0m\n"
     ]
    },
    {
     "data": {
      "text/html": [
       "<table border=\"1\" class=\"dataframe\">\n",
       "  <thead>\n",
       "    <tr style=\"text-align: right;\">\n",
       "      <th></th>\n",
       "      <th>title</th>\n",
       "      <th>authors</th>\n",
       "      <th>rating</th>\n",
       "    </tr>\n",
       "  </thead>\n",
       "  <tbody>\n",
       "    <tr>\n",
       "      <th>33</th>\n",
       "      <td>The Book Thief</td>\n",
       "      <td>Markus Zusak</td>\n",
       "      <td>5</td>\n",
       "    </tr>\n",
       "    <tr>\n",
       "      <th>30</th>\n",
       "      <td>Animal Farm</td>\n",
       "      <td>George Orwell</td>\n",
       "      <td>5</td>\n",
       "    </tr>\n",
       "    <tr>\n",
       "      <th>102</th>\n",
       "      <td>A Court of Wings and Ruin (A Court of Thorns and Roses, #3)</td>\n",
       "      <td>Sarah J. Maas</td>\n",
       "      <td>5</td>\n",
       "    </tr>\n",
       "    <tr>\n",
       "      <th>20</th>\n",
       "      <td>Tweak: Growing Up On Methamphetamines</td>\n",
       "      <td>Nic Sheff</td>\n",
       "      <td>5</td>\n",
       "    </tr>\n",
       "    <tr>\n",
       "      <th>39</th>\n",
       "      <td>The One (The Selection, #3)</td>\n",
       "      <td>Kiera Cass</td>\n",
       "      <td>5</td>\n",
       "    </tr>\n",
       "    <tr>\n",
       "      <th>38</th>\n",
       "      <td>The Elite (The Selection, #2)</td>\n",
       "      <td>Kiera Cass</td>\n",
       "      <td>5</td>\n",
       "    </tr>\n",
       "    <tr>\n",
       "      <th>26</th>\n",
       "      <td>Breakfast at Tiffany's</td>\n",
       "      <td>Truman Capote</td>\n",
       "      <td>5</td>\n",
       "    </tr>\n",
       "    <tr>\n",
       "      <th>18</th>\n",
       "      <td>Beautiful Boy: A Father's Journey Through His Son's Addiction</td>\n",
       "      <td>David Sheff</td>\n",
       "      <td>5</td>\n",
       "    </tr>\n",
       "    <tr>\n",
       "      <th>55</th>\n",
       "      <td>A Court of Thorns and Roses (A Court of Thorns and Roses, #1)</td>\n",
       "      <td>Sarah J. Maas</td>\n",
       "      <td>5</td>\n",
       "    </tr>\n",
       "    <tr>\n",
       "      <th>56</th>\n",
       "      <td>A Court of Mist and Fury (A Court of Thorns and Roses, #2)</td>\n",
       "      <td>Sarah J. Maas</td>\n",
       "      <td>5</td>\n",
       "    </tr>\n",
       "  </tbody>\n",
       "</table>"
      ],
      "text/plain": [
       "<IPython.core.display.HTML object>"
      ]
     },
     "metadata": {},
     "output_type": "display_data"
    },
    {
     "name": "stdout",
     "output_type": "stream",
     "text": [
      "\u001b[1mTop 10 suggested items:\u001b[0m\n"
     ]
    },
    {
     "data": {
      "text/html": [
       "<table border=\"1\" class=\"dataframe\">\n",
       "  <thead>\n",
       "    <tr style=\"text-align: right;\">\n",
       "      <th></th>\n",
       "      <th>title</th>\n",
       "      <th>authors</th>\n",
       "    </tr>\n",
       "  </thead>\n",
       "  <tbody>\n",
       "    <tr>\n",
       "      <th>0</th>\n",
       "      <td>The Hunger Games (The Hunger Games, #1)</td>\n",
       "      <td>Suzanne Collins</td>\n",
       "    </tr>\n",
       "    <tr>\n",
       "      <th>16</th>\n",
       "      <td>Catching Fire (The Hunger Games, #2)</td>\n",
       "      <td>Suzanne Collins</td>\n",
       "    </tr>\n",
       "    <tr>\n",
       "      <th>2</th>\n",
       "      <td>Twilight (Twilight, #1)</td>\n",
       "      <td>Stephenie Meyer</td>\n",
       "    </tr>\n",
       "    <tr>\n",
       "      <th>19</th>\n",
       "      <td>Mockingjay (The Hunger Games, #3)</td>\n",
       "      <td>Suzanne Collins</td>\n",
       "    </tr>\n",
       "    <tr>\n",
       "      <th>5</th>\n",
       "      <td>The Fault in Our Stars</td>\n",
       "      <td>John Green</td>\n",
       "    </tr>\n",
       "    <tr>\n",
       "      <th>11</th>\n",
       "      <td>Divergent (Divergent, #1)</td>\n",
       "      <td>Veronica Roth</td>\n",
       "    </tr>\n",
       "    <tr>\n",
       "      <th>68</th>\n",
       "      <td>Insurgent (Divergent, #2)</td>\n",
       "      <td>Veronica Roth</td>\n",
       "    </tr>\n",
       "    <tr>\n",
       "      <th>50</th>\n",
       "      <td>City of Bones (The Mortal Instruments, #1)</td>\n",
       "      <td>Cassandra Clare</td>\n",
       "    </tr>\n",
       "    <tr>\n",
       "      <th>48</th>\n",
       "      <td>New Moon (Twilight, #2)</td>\n",
       "      <td>Stephenie Meyer</td>\n",
       "    </tr>\n",
       "    <tr>\n",
       "      <th>51</th>\n",
       "      <td>Eclipse (Twilight, #3)</td>\n",
       "      <td>Stephenie Meyer</td>\n",
       "    </tr>\n",
       "  </tbody>\n",
       "</table>"
      ],
      "text/plain": [
       "<IPython.core.display.HTML object>"
      ]
     },
     "metadata": {},
     "output_type": "display_data"
    },
    {
     "name": "stdout",
     "output_type": "stream",
     "text": [
      "\u001b[1mUser 7100 known items: \u001b[0m\n"
     ]
    },
    {
     "data": {
      "text/html": [
       "<table border=\"1\" class=\"dataframe\">\n",
       "  <thead>\n",
       "    <tr style=\"text-align: right;\">\n",
       "      <th></th>\n",
       "      <th>title</th>\n",
       "      <th>authors</th>\n",
       "      <th>rating</th>\n",
       "    </tr>\n",
       "  </thead>\n",
       "  <tbody>\n",
       "    <tr>\n",
       "      <th>0</th>\n",
       "      <td>The Time Traveler's Wife</td>\n",
       "      <td>Audrey Niffenegger</td>\n",
       "      <td>5</td>\n",
       "    </tr>\n",
       "    <tr>\n",
       "      <th>41</th>\n",
       "      <td>The Kite Runner</td>\n",
       "      <td>Khaled Hosseini</td>\n",
       "      <td>5</td>\n",
       "    </tr>\n",
       "    <tr>\n",
       "      <th>76</th>\n",
       "      <td>Fear and Loathing in Las Vegas</td>\n",
       "      <td>Hunter S. Thompson, Ralph Steadman</td>\n",
       "      <td>5</td>\n",
       "    </tr>\n",
       "    <tr>\n",
       "      <th>71</th>\n",
       "      <td>Cannery Row</td>\n",
       "      <td>John Steinbeck</td>\n",
       "      <td>5</td>\n",
       "    </tr>\n",
       "    <tr>\n",
       "      <th>1</th>\n",
       "      <td>Choke</td>\n",
       "      <td>Chuck Palahniuk</td>\n",
       "      <td>5</td>\n",
       "    </tr>\n",
       "    <tr>\n",
       "      <th>67</th>\n",
       "      <td>Ishmael:A Novel</td>\n",
       "      <td>Daniel Quinn</td>\n",
       "      <td>5</td>\n",
       "    </tr>\n",
       "    <tr>\n",
       "      <th>65</th>\n",
       "      <td>The Once and Future King (The Once and Future King #1-4)</td>\n",
       "      <td>T.H. White</td>\n",
       "      <td>5</td>\n",
       "    </tr>\n",
       "    <tr>\n",
       "      <th>63</th>\n",
       "      <td>The Color Purple</td>\n",
       "      <td>Alice Walker</td>\n",
       "      <td>5</td>\n",
       "    </tr>\n",
       "    <tr>\n",
       "      <th>60</th>\n",
       "      <td>Beloved</td>\n",
       "      <td>Toni Morrison</td>\n",
       "      <td>5</td>\n",
       "    </tr>\n",
       "    <tr>\n",
       "      <th>59</th>\n",
       "      <td>One Flew Over the Cuckoo's Nest</td>\n",
       "      <td>Ken Kesey</td>\n",
       "      <td>5</td>\n",
       "    </tr>\n",
       "  </tbody>\n",
       "</table>"
      ],
      "text/plain": [
       "<IPython.core.display.HTML object>"
      ]
     },
     "metadata": {},
     "output_type": "display_data"
    },
    {
     "name": "stdout",
     "output_type": "stream",
     "text": [
      "\u001b[1mTop 10 suggested items:\u001b[0m\n"
     ]
    },
    {
     "data": {
      "text/html": [
       "<table border=\"1\" class=\"dataframe\">\n",
       "  <thead>\n",
       "    <tr style=\"text-align: right;\">\n",
       "      <th></th>\n",
       "      <th>title</th>\n",
       "      <th>authors</th>\n",
       "    </tr>\n",
       "  </thead>\n",
       "  <tbody>\n",
       "    <tr>\n",
       "      <th>3</th>\n",
       "      <td>To Kill a Mockingbird</td>\n",
       "      <td>Harper Lee</td>\n",
       "    </tr>\n",
       "    <tr>\n",
       "      <th>99</th>\n",
       "      <td>The Poisonwood Bible</td>\n",
       "      <td>Barbara Kingsolver</td>\n",
       "    </tr>\n",
       "    <tr>\n",
       "      <th>7</th>\n",
       "      <td>The Catcher in the Rye</td>\n",
       "      <td>J.D. Salinger</td>\n",
       "    </tr>\n",
       "    <tr>\n",
       "      <th>21</th>\n",
       "      <td>The Lovely Bones</td>\n",
       "      <td>Alice Sebold</td>\n",
       "    </tr>\n",
       "    <tr>\n",
       "      <th>4</th>\n",
       "      <td>The Great Gatsby</td>\n",
       "      <td>F. Scott Fitzgerald</td>\n",
       "    </tr>\n",
       "    <tr>\n",
       "      <th>56</th>\n",
       "      <td>The Secret Life of Bees</td>\n",
       "      <td>Sue Monk Kidd</td>\n",
       "    </tr>\n",
       "    <tr>\n",
       "      <th>27</th>\n",
       "      <td>Lord of the Flies</td>\n",
       "      <td>William Golding</td>\n",
       "    </tr>\n",
       "    <tr>\n",
       "      <th>10</th>\n",
       "      <td>The Kite Runner</td>\n",
       "      <td>Khaled Hosseini</td>\n",
       "    </tr>\n",
       "    <tr>\n",
       "      <th>15</th>\n",
       "      <td>The Girl with the Dragon Tattoo (Millennium, #1)</td>\n",
       "      <td>Stieg Larsson, Reg Keeland</td>\n",
       "    </tr>\n",
       "    <tr>\n",
       "      <th>100</th>\n",
       "      <td>Me Talk Pretty One Day</td>\n",
       "      <td>David Sedaris</td>\n",
       "    </tr>\n",
       "  </tbody>\n",
       "</table>"
      ],
      "text/plain": [
       "<IPython.core.display.HTML object>"
      ]
     },
     "metadata": {},
     "output_type": "display_data"
    },
    {
     "name": "stdout",
     "output_type": "stream",
     "text": [
      "\u001b[1mUser 39620 known items: \u001b[0m\n"
     ]
    },
    {
     "data": {
      "text/html": [
       "<table border=\"1\" class=\"dataframe\">\n",
       "  <thead>\n",
       "    <tr style=\"text-align: right;\">\n",
       "      <th></th>\n",
       "      <th>title</th>\n",
       "      <th>authors</th>\n",
       "      <th>rating</th>\n",
       "    </tr>\n",
       "  </thead>\n",
       "  <tbody>\n",
       "    <tr>\n",
       "      <th>39</th>\n",
       "      <td>Off to Be the Wizard (Magic 2.0, #1)</td>\n",
       "      <td>Scott  Meyer</td>\n",
       "      <td>5</td>\n",
       "    </tr>\n",
       "    <tr>\n",
       "      <th>17</th>\n",
       "      <td>Rainbow Six (Jack Ryan Universe, #10)</td>\n",
       "      <td>Tom Clancy</td>\n",
       "      <td>5</td>\n",
       "    </tr>\n",
       "    <tr>\n",
       "      <th>24</th>\n",
       "      <td>Duma Key</td>\n",
       "      <td>Stephen King</td>\n",
       "      <td>5</td>\n",
       "    </tr>\n",
       "    <tr>\n",
       "      <th>107</th>\n",
       "      <td>The Nix</td>\n",
       "      <td>Nathan  Hill</td>\n",
       "      <td>5</td>\n",
       "    </tr>\n",
       "    <tr>\n",
       "      <th>33</th>\n",
       "      <td>The Martian</td>\n",
       "      <td>Andy Weir</td>\n",
       "      <td>5</td>\n",
       "    </tr>\n",
       "    <tr>\n",
       "      <th>44</th>\n",
       "      <td>14</td>\n",
       "      <td>Peter Clines</td>\n",
       "      <td>5</td>\n",
       "    </tr>\n",
       "    <tr>\n",
       "      <th>60</th>\n",
       "      <td>Ready Player One</td>\n",
       "      <td>Ernest Cline</td>\n",
       "      <td>5</td>\n",
       "    </tr>\n",
       "    <tr>\n",
       "      <th>41</th>\n",
       "      <td>Command Authority (Jack Ryan Universe, #16)</td>\n",
       "      <td>Tom Clancy, Mark Greaney</td>\n",
       "      <td>5</td>\n",
       "    </tr>\n",
       "    <tr>\n",
       "      <th>19</th>\n",
       "      <td>The Demon-Haunted World: Science as a Candle in the Dark</td>\n",
       "      <td>Carl Sagan, Ann Druyan</td>\n",
       "      <td>5</td>\n",
       "    </tr>\n",
       "    <tr>\n",
       "      <th>38</th>\n",
       "      <td>Thinner</td>\n",
       "      <td>Richard Bachman, Stephen King</td>\n",
       "      <td>5</td>\n",
       "    </tr>\n",
       "  </tbody>\n",
       "</table>"
      ],
      "text/plain": [
       "<IPython.core.display.HTML object>"
      ]
     },
     "metadata": {},
     "output_type": "display_data"
    },
    {
     "name": "stdout",
     "output_type": "stream",
     "text": [
      "\u001b[1mTop 10 suggested items:\u001b[0m\n"
     ]
    },
    {
     "data": {
      "text/html": [
       "<table border=\"1\" class=\"dataframe\">\n",
       "  <thead>\n",
       "    <tr style=\"text-align: right;\">\n",
       "      <th></th>\n",
       "      <th>title</th>\n",
       "      <th>authors</th>\n",
       "    </tr>\n",
       "  </thead>\n",
       "  <tbody>\n",
       "    <tr>\n",
       "      <th>440</th>\n",
       "      <td>Under the Dome</td>\n",
       "      <td>Stephen King</td>\n",
       "    </tr>\n",
       "    <tr>\n",
       "      <th>231</th>\n",
       "      <td>The Gunslinger (The Dark Tower, #1)</td>\n",
       "      <td>Stephen King</td>\n",
       "    </tr>\n",
       "    <tr>\n",
       "      <th>294</th>\n",
       "      <td>11/22/63</td>\n",
       "      <td>Stephen King</td>\n",
       "    </tr>\n",
       "    <tr>\n",
       "      <th>167</th>\n",
       "      <td>The Stand</td>\n",
       "      <td>Stephen King, Bernie Wrightson</td>\n",
       "    </tr>\n",
       "    <tr>\n",
       "      <th>476</th>\n",
       "      <td>Killing Floor (Jack Reacher, #1)</td>\n",
       "      <td>Lee Child</td>\n",
       "    </tr>\n",
       "    <tr>\n",
       "      <th>140</th>\n",
       "      <td>The Martian</td>\n",
       "      <td>Andy Weir</td>\n",
       "    </tr>\n",
       "    <tr>\n",
       "      <th>793</th>\n",
       "      <td>Doctor Sleep (The Shining, #2)</td>\n",
       "      <td>Stephen King</td>\n",
       "    </tr>\n",
       "    <tr>\n",
       "      <th>622</th>\n",
       "      <td>Mr. Mercedes (Bill Hodges Trilogy, #1)</td>\n",
       "      <td>Stephen King</td>\n",
       "    </tr>\n",
       "    <tr>\n",
       "      <th>724</th>\n",
       "      <td>The Waste Lands (The Dark Tower, #3)</td>\n",
       "      <td>Stephen King, Ned Dameron</td>\n",
       "    </tr>\n",
       "    <tr>\n",
       "      <th>611</th>\n",
       "      <td>The Drawing of the Three (The Dark Tower, #2)</td>\n",
       "      <td>Stephen King</td>\n",
       "    </tr>\n",
       "  </tbody>\n",
       "</table>"
      ],
      "text/plain": [
       "<IPython.core.display.HTML object>"
      ]
     },
     "metadata": {},
     "output_type": "display_data"
    }
   ],
   "source": [
    "# let's fit on some users\n",
    "import random\n",
    "from tabulate import tabulate\n",
    "from IPython.display import display, HTML\n",
    "\n",
    "# let's get some users to predict on\n",
    "random.seed(1001)\n",
    "\n",
    "predUsers = random.choices(ratings.uid.unique().tolist(), k=3)\n",
    "knownRatings = pd.merge(ratings.query('uid == @predUsers[0] or uid == @predUsers[1] or uid == @predUsers[2]'),\n",
    "                        books[['iid', 'title', 'authors']], on='iid', how='left')\n",
    "\n",
    "# now let's predict them on our trained model\n",
    "itemList = np.array(ratings.iid.unique().tolist())\n",
    "itemList.sort()\n",
    "\n",
    "predUsers = random.choices(ratings.uid.unique().tolist(), k=3)\n",
    "\n",
    "for user in predUsers:\n",
    "    \n",
    "    knownRatings = pd.merge(ratings.query('uid == @user'),\n",
    "                        books[['iid', 'title', 'authors']], on='iid', how='left')\n",
    "    \n",
    "    score = model.predict(user, itemList)\n",
    "    suggested = books.loc[np.argsort(-score)][['title', 'authors']]\n",
    "    \n",
    "    print(color.BOLD + 'User {} known items: '.format(user) + color.END, end = '\\n')\n",
    "    display(HTML(knownRatings[['title', 'authors', 'rating']]\n",
    "                    .sort_values(by='rating', ascending=False).iloc[:10].to_html()))\n",
    "    print(color.BOLD + 'Top 10 suggested items:' + color.END, end = '\\n')\n",
    "    display(HTML(suggested[:10].to_html()))\n",
    "\n",
    "    \n",
    "#     print(color.BOLD + 'User {} known items: '.format(user) + color.END,\n",
    "#           tabulate((knownRatings.query('uid == @user')[['title', 'authors', 'rating']]\n",
    "#                     .sort_values(by='rating', ascending=False).iloc[:10]), headers = 'firstrow'),\n",
    "#           color.BOLD + 'Top 10 suggested items:' + color.END,\n",
    "#           suggested[:10],\n",
    "#           sep='\\n',\n",
    "#           end='\\n'*2)"
   ]
  },
  {
   "cell_type": "code",
   "execution_count": 79,
   "metadata": {
    "ExecuteTime": {
     "end_time": "2021-01-15T20:31:10.656076Z",
     "start_time": "2021-01-15T20:31:10.652383Z"
    }
   },
   "outputs": [
    {
     "data": {
      "text/plain": [
       "(10000,)"
      ]
     },
     "execution_count": 79,
     "metadata": {},
     "output_type": "execute_result"
    }
   ],
   "source": [
    "score.shape"
   ]
  },
  {
   "cell_type": "code",
   "execution_count": null,
   "metadata": {},
   "outputs": [],
   "source": []
  }
 ],
 "metadata": {
  "kernelspec": {
   "display_name": "Python 3",
   "language": "python",
   "name": "python3"
  },
  "language_info": {
   "codemirror_mode": {
    "name": "ipython",
    "version": 3
   },
   "file_extension": ".py",
   "mimetype": "text/x-python",
   "name": "python",
   "nbconvert_exporter": "python",
   "pygments_lexer": "ipython3",
   "version": "3.8.5"
  },
  "toc": {
   "base_numbering": 1,
   "nav_menu": {},
   "number_sections": true,
   "sideBar": true,
   "skip_h1_title": false,
   "title_cell": "Table of Contents",
   "title_sidebar": "Contents",
   "toc_cell": false,
   "toc_position": {},
   "toc_section_display": true,
   "toc_window_display": false
  }
 },
 "nbformat": 4,
 "nbformat_minor": 4
}
