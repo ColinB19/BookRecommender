{
 "cells": [
  {
   "cell_type": "markdown",
   "metadata": {},
   "source": [
    "# Import and class definitions"
   ]
  },
  {
   "cell_type": "code",
   "execution_count": 1,
   "metadata": {
    "ExecuteTime": {
     "end_time": "2021-01-20T07:48:57.550801Z",
     "start_time": "2021-01-20T07:48:57.202769Z"
    }
   },
   "outputs": [],
   "source": [
    "import recPipeline as pipe"
   ]
  },
  {
   "cell_type": "markdown",
   "metadata": {},
   "source": [
    "# Testing ground"
   ]
  },
  {
   "cell_type": "code",
   "execution_count": 3,
   "metadata": {
    "ExecuteTime": {
     "end_time": "2021-01-20T01:47:32.233596Z",
     "start_time": "2021-01-20T01:46:28.426298Z"
    }
   },
   "outputs": [],
   "source": [
    "rec = pipe.Pipeline()\n",
    "rec.preprocess()\n",
    "model = rec.get_model(num_threads = 12)"
   ]
  },
  {
   "cell_type": "code",
   "execution_count": 14,
   "metadata": {
    "ExecuteTime": {
     "end_time": "2021-01-20T03:16:03.608362Z",
     "start_time": "2021-01-20T03:16:03.491613Z"
    }
   },
   "outputs": [
    {
     "name": "stdout",
     "output_type": "stream",
     "text": [
      "\u001b[1mUser 10283 known items: \u001b[0m\n"
     ]
    },
    {
     "data": {
      "text/html": [
       "<table border=\"1\" class=\"dataframe\">\n",
       "  <thead>\n",
       "    <tr style=\"text-align: right;\">\n",
       "      <th></th>\n",
       "      <th>title</th>\n",
       "      <th>authors</th>\n",
       "      <th>rating</th>\n",
       "    </tr>\n",
       "  </thead>\n",
       "  <tbody>\n",
       "    <tr>\n",
       "      <th>24</th>\n",
       "      <td>Silence</td>\n",
       "      <td>Shūsaku Endō, William Johnston</td>\n",
       "      <td>5</td>\n",
       "    </tr>\n",
       "    <tr>\n",
       "      <th>94</th>\n",
       "      <td>The Indispensable Calvin and Hobbes</td>\n",
       "      <td>Bill Watterson</td>\n",
       "      <td>5</td>\n",
       "    </tr>\n",
       "    <tr>\n",
       "      <th>29</th>\n",
       "      <td>The Prophet</td>\n",
       "      <td>Kahlil Gibran</td>\n",
       "      <td>5</td>\n",
       "    </tr>\n",
       "    <tr>\n",
       "      <th>79</th>\n",
       "      <td>Goodnight Moon</td>\n",
       "      <td>Margaret Wise Brown, Clement Hurd</td>\n",
       "      <td>5</td>\n",
       "    </tr>\n",
       "    <tr>\n",
       "      <th>76</th>\n",
       "      <td>The Wind in the Willows</td>\n",
       "      <td>Kenneth Grahame, Gillian Avery</td>\n",
       "      <td>5</td>\n",
       "    </tr>\n",
       "    <tr>\n",
       "      <th>26</th>\n",
       "      <td>Batman: The Dark Knight Returns (The Dark Knight Saga, #1)</td>\n",
       "      <td>Frank Miller, Klaus Janson, Lynn Varley</td>\n",
       "      <td>5</td>\n",
       "    </tr>\n",
       "    <tr>\n",
       "      <th>72</th>\n",
       "      <td>The Complete Grimm's Fairy Tales</td>\n",
       "      <td>Jacob Grimm, Wilhelm Grimm, Josef Scharl, Padraic Colum, Joseph Campbell, Margaret Raine Hunt, James Stern</td>\n",
       "      <td>5</td>\n",
       "    </tr>\n",
       "    <tr>\n",
       "      <th>84</th>\n",
       "      <td>Harold and the Purple Crayon</td>\n",
       "      <td>Crockett Johnson</td>\n",
       "      <td>5</td>\n",
       "    </tr>\n",
       "    <tr>\n",
       "      <th>22</th>\n",
       "      <td>Confessions</td>\n",
       "      <td>Augustine of Hippo, Henry Chadwick, Albert Cook Outler</td>\n",
       "      <td>5</td>\n",
       "    </tr>\n",
       "    <tr>\n",
       "      <th>21</th>\n",
       "      <td>The Amazing Adventures of Kavalier &amp; Clay</td>\n",
       "      <td>Michael Chabon</td>\n",
       "      <td>5</td>\n",
       "    </tr>\n",
       "  </tbody>\n",
       "</table>"
      ],
      "text/plain": [
       "<IPython.core.display.HTML object>"
      ]
     },
     "metadata": {},
     "output_type": "display_data"
    },
    {
     "name": "stdout",
     "output_type": "stream",
     "text": [
      "\u001b[1mTop 10 suggested items:\u001b[0m\n"
     ]
    },
    {
     "data": {
      "text/html": [
       "<table border=\"1\" class=\"dataframe\">\n",
       "  <thead>\n",
       "    <tr style=\"text-align: right;\">\n",
       "      <th></th>\n",
       "      <th>title</th>\n",
       "      <th>authors</th>\n",
       "    </tr>\n",
       "  </thead>\n",
       "  <tbody>\n",
       "    <tr>\n",
       "      <th>49</th>\n",
       "      <td>Where the Sidewalk Ends</td>\n",
       "      <td>Shel Silverstein</td>\n",
       "    </tr>\n",
       "    <tr>\n",
       "      <th>101</th>\n",
       "      <td>Where the Wild Things Are</td>\n",
       "      <td>Maurice Sendak</td>\n",
       "    </tr>\n",
       "    <tr>\n",
       "      <th>4</th>\n",
       "      <td>The Great Gatsby</td>\n",
       "      <td>F. Scott Fitzgerald</td>\n",
       "    </tr>\n",
       "    <tr>\n",
       "      <th>7</th>\n",
       "      <td>The Catcher in the Rye</td>\n",
       "      <td>J.D. Salinger</td>\n",
       "    </tr>\n",
       "    <tr>\n",
       "      <th>13</th>\n",
       "      <td>Animal Farm</td>\n",
       "      <td>George Orwell</td>\n",
       "    </tr>\n",
       "    <tr>\n",
       "      <th>12</th>\n",
       "      <td>1984</td>\n",
       "      <td>George Orwell, Erich Fromm, Celâl Üster</td>\n",
       "    </tr>\n",
       "    <tr>\n",
       "      <th>27</th>\n",
       "      <td>Lord of the Flies</td>\n",
       "      <td>William Golding</td>\n",
       "    </tr>\n",
       "    <tr>\n",
       "      <th>84</th>\n",
       "      <td>The Giving Tree</td>\n",
       "      <td>Shel Silverstein</td>\n",
       "    </tr>\n",
       "    <tr>\n",
       "      <th>31</th>\n",
       "      <td>Of Mice and Men</td>\n",
       "      <td>John Steinbeck</td>\n",
       "    </tr>\n",
       "    <tr>\n",
       "      <th>3</th>\n",
       "      <td>To Kill a Mockingbird</td>\n",
       "      <td>Harper Lee</td>\n",
       "    </tr>\n",
       "  </tbody>\n",
       "</table>"
      ],
      "text/plain": [
       "<IPython.core.display.HTML object>"
      ]
     },
     "metadata": {},
     "output_type": "display_data"
    }
   ],
   "source": [
    "rec.recommend_random(seed = 100, model = model)"
   ]
  },
  {
   "cell_type": "markdown",
   "metadata": {},
   "source": [
    "## Some notes for moving forward.\n",
    "\n",
    "1. now I need to do some gridSearch to find the best hyperparameters\n",
    "    1. Since I need to preserve the entirety of a users reviews in either the test or train set and, when testing I need to keep some of the testers reviews to check the others, right? How do I do all this correctly?\n",
    "2. find out what method/algo LightFM is using. Could another be better?\n",
    "3. How do I read in a NEW user and give them recommendations? \n",
    "    1. Maybe start with retraining the entire model.\n",
    "    2. Then move on to batch updating or something like that\n",
    "4. finally deployment, docker, AWS, etc. "
   ]
  },
  {
   "cell_type": "code",
   "execution_count": 2,
   "metadata": {
    "ExecuteTime": {
     "end_time": "2021-01-20T07:49:06.924251Z",
     "start_time": "2021-01-20T07:48:59.104085Z"
    }
   },
   "outputs": [],
   "source": [
    "import numpy as np\n",
    "import pandas as pd\n",
    "import random\n",
    "\n",
    "random.seed(1001)\n",
    "\n",
    "# just grab the data first\n",
    "rec_check = pipe.Pipeline()\n",
    "rec_check.preprocess()\n",
    "\n",
    "# let's get the list of users for the test set\n",
    "uids = rec_check.ratings.uid.unique().tolist()\n",
    "test_uids = random.sample(uids, k = int(len(uids)*0.5))\n",
    "\n",
    "# get all data for test users and put the rest in training\n",
    "test_users = rec_check.ratings.query('uid == @test_uids')\n",
    "train = rec_check.ratings.query('uid != @test_uids')\n",
    "\n",
    "# only consider 40% of test users ratings and put the rest in the train set.\n",
    "# This prevents the cold start problem on the test set. We will later incorporate \n",
    "# new users.\n",
    "test = test_users.groupby('uid').sample(frac = 0.4, random_state = 1)\n",
    "train = train.append(test_users.drop(test.index), ignore_index = True)"
   ]
  },
  {
   "cell_type": "code",
   "execution_count": 4,
   "metadata": {
    "ExecuteTime": {
     "end_time": "2021-01-20T07:49:49.623179Z",
     "start_time": "2021-01-20T07:49:49.573106Z"
    }
   },
   "outputs": [],
   "source": [
    "from scipy.sparse import coo_matrix as cm\n",
    "import lightfm as lf\n",
    "\n",
    "trainNumUsers = train.uid.max()+1\n",
    "trainNumBooks = train.iid.max()+1\n",
    "\n",
    "sparseTrain = cm((train.rating, (train.uid, train.iid)),\n",
    "                       shape=(trainNumUsers, trainNumBooks))\n",
    "\n",
    "testNumUsers = test.uid.max()+1\n",
    "testNumBooks = test.iid.max()+1\n",
    "\n",
    "sparseTest = cm((test.rating, (test.uid, test.iid)),\n",
    "                       shape=(testNumUsers, testNumBooks))"
   ]
  },
  {
   "cell_type": "code",
   "execution_count": 13,
   "metadata": {
    "ExecuteTime": {
     "end_time": "2021-01-20T07:55:32.568344Z",
     "start_time": "2021-01-20T07:53:53.519277Z"
    }
   },
   "outputs": [
    {
     "data": {
      "text/plain": [
       "<lightfm.lightfm.LightFM at 0x7fd13caa0040>"
      ]
     },
     "execution_count": 13,
     "metadata": {},
     "output_type": "execute_result"
    }
   ],
   "source": [
    "model = lf.LightFM(loss='warp')\n",
    "model.fit(sparseTrain, epochs=40, num_threads=12)"
   ]
  },
  {
   "cell_type": "code",
   "execution_count": 14,
   "metadata": {
    "ExecuteTime": {
     "end_time": "2021-01-20T07:55:34.677045Z",
     "start_time": "2021-01-20T07:55:32.569804Z"
    }
   },
   "outputs": [
    {
     "data": {
      "text/plain": [
       "0.34711736"
      ]
     },
     "execution_count": 14,
     "metadata": {},
     "output_type": "execute_result"
    }
   ],
   "source": [
    "from lightfm.evaluation import precision_at_k, recall_at_k\n",
    "\n",
    "precision_at_k(model, sparseTest, sparseTrain, num_threads = 12).mean()"
   ]
  },
  {
   "cell_type": "code",
   "execution_count": 15,
   "metadata": {
    "ExecuteTime": {
     "end_time": "2021-01-20T07:55:36.774032Z",
     "start_time": "2021-01-20T07:55:34.679128Z"
    }
   },
   "outputs": [
    {
     "data": {
      "text/plain": [
       "0.07992262640803939"
      ]
     },
     "execution_count": 15,
     "metadata": {},
     "output_type": "execute_result"
    }
   ],
   "source": [
    "recall_at_k(model, sparseTest, sparseTrain, num_threads = 12).mean()"
   ]
  },
  {
   "cell_type": "code",
   "execution_count": null,
   "metadata": {},
   "outputs": [],
   "source": [
    "# Those are really bad!"
   ]
  }
 ],
 "metadata": {
  "kernelspec": {
   "display_name": "Python 3",
   "language": "python",
   "name": "python3"
  },
  "language_info": {
   "codemirror_mode": {
    "name": "ipython",
    "version": 3
   },
   "file_extension": ".py",
   "mimetype": "text/x-python",
   "name": "python",
   "nbconvert_exporter": "python",
   "pygments_lexer": "ipython3",
   "version": "3.8.5"
  },
  "toc": {
   "base_numbering": 1,
   "nav_menu": {},
   "number_sections": true,
   "sideBar": true,
   "skip_h1_title": false,
   "title_cell": "Table of Contents",
   "title_sidebar": "Contents",
   "toc_cell": false,
   "toc_position": {},
   "toc_section_display": true,
   "toc_window_display": false
  }
 },
 "nbformat": 4,
 "nbformat_minor": 4
}
