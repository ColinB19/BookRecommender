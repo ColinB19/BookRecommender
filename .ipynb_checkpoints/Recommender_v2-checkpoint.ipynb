{
 "cells": [
  {
   "cell_type": "markdown",
   "metadata": {
    "heading_collapsed": true
   },
   "source": [
    "# Import and class definitions"
   ]
  },
  {
   "cell_type": "code",
   "execution_count": 199,
   "metadata": {
    "ExecuteTime": {
     "end_time": "2021-01-15T23:55:25.773763Z",
     "start_time": "2021-01-15T23:55:25.743887Z"
    },
    "hidden": true
   },
   "outputs": [],
   "source": [
    "# standard\n",
    "from IPython.display import display, HTML\n",
    "from tabulate import tabulate\n",
    "import random\n",
    "from scipy.sparse import coo_matrix as cm\n",
    "import lightfm as lf\n",
    "import numpy as np\n",
    "import pandas as pd\n",
    "import matplotlib.pyplot as plt\n",
    "%matplotlib inline\n",
    "\n",
    "# model imports\n",
    "\n",
    "# table formatting\n",
    "\n",
    "\n",
    "class Pipeline():\n",
    "\n",
    "    model\n",
    "\n",
    "    def __init__(self):\n",
    "        books = pd.DataFrame()\n",
    "        ratings = pd.DataFrame()\n",
    "        book_tags = pd.DataFrame()\n",
    "        tags = pd.DataFrame()\n",
    "        to_read = pd.DataFrame()\n",
    "\n",
    "    def preprocess(self):\n",
    "        self.read_data()\n",
    "        self.fix_ids()\n",
    "\n",
    "    def get_model(self, epochs=20, num_threads=2, loss='warp'):\n",
    "        interactions = self.get_interactions()\n",
    "        # user_meta, item_meta = self.get_meta()\n",
    "        self.model = self.fit_model(interactions, epochs, num_threads, loss)\n",
    "\n",
    "    def read_data(self):\n",
    "        '''\n",
    "        This function just reads in the goodbooks-10k data. Later should have the \n",
    "        functionality to read in scraped data.\n",
    "\n",
    "        input: \n",
    "            self - just class object\n",
    "\n",
    "        output: \n",
    "            null - no need to return anything\n",
    "        '''\n",
    "        self.books = pd.read_csv(\"goodbooks-10k/books.csv\")\n",
    "        self.ratings = pd.read_csv(\"goodbooks-10k/ratings.csv\")\n",
    "\n",
    "        # may not use these at first.\n",
    "        self.book_tags = pd.read_csv(\"goodbooks-10k/book_tags.csv\")\n",
    "        self.tags = pd.read_csv(\"goodbooks-10k/tags.csv\")\n",
    "        self.to_read = pd.read_csv(\"goodbooks-10k/to_read.csv\")\n",
    "\n",
    "    def fix_ids(self):\n",
    "        '''\n",
    "        This function sets the bookand user id's to start at zero. It also changes the name of \n",
    "        headers from user_id and book_id to uid and iid.\n",
    "\n",
    "        input: \n",
    "            self - just class object\n",
    "\n",
    "        output: \n",
    "            null - no need to return anything\n",
    "        '''\n",
    "        # just changing to standard feature names\n",
    "        self.ratings.rename(\n",
    "            columns={'user_id': 'uid', 'book_id': 'iid'}, inplace=True)\n",
    "        self.books.rename(columns={'book_id': 'iid'}, inplace=True)\n",
    "        self.to_read.rename(\n",
    "            columns={'user_id': 'uid', 'book_id': 'iid'}, inplace=True)\n",
    "\n",
    "        # starting user and book indices from 0\n",
    "        self.ratings.uid = self.ratings.uid - 1\n",
    "        self.ratings.iid = self.ratings.iid - 1\n",
    "        self.books.iid = self.books.iid - 1\n",
    "        self.to_read.iid = self.to_read.iid - 1\n",
    "        \n",
    "        temp_books = self.books.set_index('goodreads_book_id')\n",
    "        idMAP = temp_books['iid'].to_dict()\n",
    "        self.book_tags['iid'] = self.book_tags.goodreads_book_id.map(idMAP)\n",
    "        self.book_tags.drop(goodreads_book_id, inplace = True)\n",
    "\n",
    "    def get_interactions(self):\n",
    "        numUsers = self.ratings.uid.max()+1\n",
    "        numBooks = self.ratings.iid.max()+1\n",
    "\n",
    "        ratSparse = cm((self.ratings.rating, (self.ratings.uid, self.ratings.iid)),\n",
    "                       shape=(numUsers, numBooks))\n",
    "        return ratSparse\n",
    "\n",
    "#     def get_meta(self):\n",
    "#         numUsers = self.ratings.uid.max()+1\n",
    "#         numBooks = self.ratings.iid.max()+1\n",
    "#         numUserFeatures = self.to_read.book_id.max+1\n",
    "#         numItemFeatures = self.tags.book_id.max+1\n",
    "\n",
    "    def fit_model(self, ratSparse, epochs, num_threads, loss):\n",
    "        model = lf.LightFM(loss=loss)\n",
    "        model.fit(ratSparse, epochs=epochs, num_threads=num_threads)\n",
    "\n",
    "        return model\n",
    "\n",
    "    def recommend_random(self, seed):\n",
    "        random.seed(seed)\n",
    "        user = random.choices(self.ratings.uid.unique().tolist())[0]\n",
    "\n",
    "        # now let's predict them on our trained model\n",
    "        itemList = np.array(self.ratings.iid.unique().tolist())\n",
    "        itemList.sort()\n",
    "\n",
    "        knownRatings = pd.merge(self.ratings.query('uid == @user'),\n",
    "                                self.books[['iid', 'title', 'authors']], on='iid', how='left')\n",
    "\n",
    "        score = self.model.predict(user, itemList)\n",
    "        suggested = self.books.loc[np.argsort(-score)][['title', 'authors']]\n",
    "\n",
    "        print(color.BOLD + 'User {} known items: '.format(user) + color.END, end='\\n')\n",
    "        display(HTML(knownRatings[['title', 'authors', 'rating']]\n",
    "                     .sort_values(by='rating', ascending=False).iloc[:10].to_html()))\n",
    "        print(color.BOLD + 'Top 10 suggested items:' + color.END, end='\\n')\n",
    "        display(HTML(suggested[:10].to_html()))\n",
    "\n",
    "\n",
    "class color:\n",
    "    PURPLE = '\\033[95m'\n",
    "    CYAN = '\\033[96m'\n",
    "    DARKCYAN = '\\033[36m'\n",
    "    BLUE = '\\033[94m'\n",
    "    GREEN = '\\033[92m'\n",
    "    YELLOW = '\\033[93m'\n",
    "    RED = '\\033[91m'\n",
    "    BOLD = '\\033[1m'\n",
    "    UNDERLINE = '\\033[4m'\n",
    "    END = '\\033[0m'\n",
    "\n",
    "\n",
    "label_kwargs = {'fontfamily': 'sans-serif',\n",
    "                'fontsize': 15}\n",
    "\n",
    "title_kwargs = {'fontfamily': 'sans-serif',\n",
    "                'fontsize': 25,\n",
    "                'fontweight': 'bold'}\n",
    "\n",
    "tick_kwargs = {'rotation': 'vertical'}"
   ]
  },
  {
   "cell_type": "markdown",
   "metadata": {},
   "source": [
    "# Testing ground"
   ]
  },
  {
   "cell_type": "code",
   "execution_count": 200,
   "metadata": {
    "ExecuteTime": {
     "end_time": "2021-01-15T23:55:27.817781Z",
     "start_time": "2021-01-15T23:55:27.050958Z"
    }
   },
   "outputs": [
    {
     "name": "stdout",
     "output_type": "stream",
     "text": [
      "   goodreads_book_id  tag_id   count  iid\n",
      "0                  1   30574  167697   26\n",
      "1                  1   11305   37174   26\n",
      "2                  1   11557   34173   26\n",
      "3                  1    8717   12986   26\n",
      "4                  1   33114   12716   26\n"
     ]
    }
   ],
   "source": [
    "rec = Pipeline()\n",
    "rec.preprocess()\n",
    "#rec.get_model(num_threads = 12)"
   ]
  },
  {
   "cell_type": "code",
   "execution_count": null,
   "metadata": {
    "ExecuteTime": {
     "end_time": "2021-01-15T23:36:51.229413Z",
     "start_time": "2021-01-15T23:36:50.690Z"
    }
   },
   "outputs": [],
   "source": [
    "rec.recommend_random(seed = 1001)"
   ]
  },
  {
   "cell_type": "markdown",
   "metadata": {},
   "source": [
    "## Some notes for moving forward.\n",
    "\n",
    "1. now I need to do some gridSearch to find the best hyperparameters\n",
    "    1. Since I need to preserve the entirety of a users reviews in either the test or train set and, when testing I need to keep some of the testers reviews to check the others, right? How do I do all this correctly?\n",
    "2. find out what method/algo LightFM is using. Could another be better?\n",
    "3. How do I read in a NEW user and give them recommendations? \n",
    "    1. Maybe start with retraining the entire model.\n",
    "    2. Then move on to batch updating or something like that\n",
    "4. finally deployment, docker, AWS, etc. "
   ]
  },
  {
   "cell_type": "code",
   "execution_count": null,
   "metadata": {},
   "outputs": [],
   "source": []
  }
 ],
 "metadata": {
  "kernelspec": {
   "display_name": "Python 3",
   "language": "python",
   "name": "python3"
  },
  "language_info": {
   "codemirror_mode": {
    "name": "ipython",
    "version": 3
   },
   "file_extension": ".py",
   "mimetype": "text/x-python",
   "name": "python",
   "nbconvert_exporter": "python",
   "pygments_lexer": "ipython3",
   "version": "3.8.5"
  },
  "toc": {
   "base_numbering": 1,
   "nav_menu": {},
   "number_sections": true,
   "sideBar": true,
   "skip_h1_title": false,
   "title_cell": "Table of Contents",
   "title_sidebar": "Contents",
   "toc_cell": false,
   "toc_position": {},
   "toc_section_display": true,
   "toc_window_display": false
  }
 },
 "nbformat": 4,
 "nbformat_minor": 4
}
